{
 "cells": [
  {
   "cell_type": "markdown",
   "id": "a234159a",
   "metadata": {},
   "source": [
    "## Importing required libraries"
   ]
  },
  {
   "cell_type": "code",
   "execution_count": 1,
   "id": "93549c32",
   "metadata": {
    "ExecuteTime": {
     "end_time": "2022-08-12T06:00:03.069031Z",
     "start_time": "2022-08-12T06:00:00.967447Z"
    }
   },
   "outputs": [],
   "source": [
    "import os\n",
    "import warnings\n",
    "warnings.filterwarnings('ignore')\n",
    "\n",
    "## To download datasets from kaggle\n",
    "import opendatasets as od\n",
    "\n",
    "## For data loading and wrangling\n",
    "import pandas as pd\n",
    "\n",
    "## For matrix manipulation and plotting\n",
    "import numpy as np\n",
    "import seaborn as sns\n",
    "import matplotlib.pyplot as plt\n",
    "\n",
    "## For encoding labels to values instead of text\n",
    "from sklearn.preprocessing import LabelEncoder\n",
    "\n",
    "## Classification algorithm\n",
    "from xgboost import XGBClassifier\n",
    "\n",
    "## ADASYN for oversampling imbalanced dataset\n",
    "from imblearn.over_sampling import ADASYN\n",
    "\n",
    "## To split dataset into training and test sets\n",
    "from sklearn.model_selection import train_test_split\n",
    "\n",
    "## For conducting grid search and K-fold cross-validation in hyperparameter tuning\n",
    "from sklearn.model_selection import RandomizedSearchCV, KFold\n",
    "\n",
    "## For computing RMSE, ROC AUC & Accuracy scores\n",
    "from sklearn.metrics import mean_squared_error, roc_auc_score, roc_curve, accuracy_score"
   ]
  },
  {
   "cell_type": "markdown",
   "id": "d409f0f1",
   "metadata": {},
   "source": [
    "## Load Data"
   ]
  },
  {
   "cell_type": "code",
   "execution_count": 2,
   "id": "03453ed6",
   "metadata": {
    "ExecuteTime": {
     "end_time": "2022-08-12T06:00:03.084988Z",
     "start_time": "2022-08-12T06:00:03.069031Z"
    }
   },
   "outputs": [
    {
     "name": "stdout",
     "output_type": "stream",
     "text": [
      "Skipping, found downloaded files in \".\\bank-customers\" (use force=True to force download)\n"
     ]
    }
   ],
   "source": [
    "## Download bank customers churn dataset from kaggle\n",
    "od.download(\"https://www.kaggle.com/datasets/santoshd3/bank-customers\")\n",
    "\n",
    "folder = os.path.join(os.getcwd(), 'bank-customers')\n",
    "file = os.path.join(folder, [f for f in os.listdir(folder)][0])"
   ]
  },
  {
   "cell_type": "code",
   "execution_count": 3,
   "id": "18b9b532",
   "metadata": {
    "ExecuteTime": {
     "end_time": "2022-08-12T06:00:03.147605Z",
     "start_time": "2022-08-12T06:00:03.086683Z"
    },
    "scrolled": true
   },
   "outputs": [
    {
     "data": {
      "text/html": [
       "<div>\n",
       "<style scoped>\n",
       "    .dataframe tbody tr th:only-of-type {\n",
       "        vertical-align: middle;\n",
       "    }\n",
       "\n",
       "    .dataframe tbody tr th {\n",
       "        vertical-align: top;\n",
       "    }\n",
       "\n",
       "    .dataframe thead th {\n",
       "        text-align: right;\n",
       "    }\n",
       "</style>\n",
       "<table border=\"1\" class=\"dataframe\">\n",
       "  <thead>\n",
       "    <tr style=\"text-align: right;\">\n",
       "      <th></th>\n",
       "      <th>RowNumber</th>\n",
       "      <th>CustomerId</th>\n",
       "      <th>Surname</th>\n",
       "      <th>CreditScore</th>\n",
       "      <th>Geography</th>\n",
       "      <th>Gender</th>\n",
       "      <th>Age</th>\n",
       "      <th>Tenure</th>\n",
       "      <th>Balance</th>\n",
       "      <th>NumOfProducts</th>\n",
       "      <th>HasCrCard</th>\n",
       "      <th>IsActiveMember</th>\n",
       "      <th>EstimatedSalary</th>\n",
       "      <th>Exited</th>\n",
       "    </tr>\n",
       "  </thead>\n",
       "  <tbody>\n",
       "    <tr>\n",
       "      <th>0</th>\n",
       "      <td>1</td>\n",
       "      <td>15634602</td>\n",
       "      <td>Hargrave</td>\n",
       "      <td>619</td>\n",
       "      <td>France</td>\n",
       "      <td>Female</td>\n",
       "      <td>42</td>\n",
       "      <td>2</td>\n",
       "      <td>0.00</td>\n",
       "      <td>1</td>\n",
       "      <td>1</td>\n",
       "      <td>1</td>\n",
       "      <td>101348.88</td>\n",
       "      <td>1</td>\n",
       "    </tr>\n",
       "    <tr>\n",
       "      <th>1</th>\n",
       "      <td>2</td>\n",
       "      <td>15647311</td>\n",
       "      <td>Hill</td>\n",
       "      <td>608</td>\n",
       "      <td>Spain</td>\n",
       "      <td>Female</td>\n",
       "      <td>41</td>\n",
       "      <td>1</td>\n",
       "      <td>83807.86</td>\n",
       "      <td>1</td>\n",
       "      <td>0</td>\n",
       "      <td>1</td>\n",
       "      <td>112542.58</td>\n",
       "      <td>0</td>\n",
       "    </tr>\n",
       "    <tr>\n",
       "      <th>2</th>\n",
       "      <td>3</td>\n",
       "      <td>15619304</td>\n",
       "      <td>Onio</td>\n",
       "      <td>502</td>\n",
       "      <td>France</td>\n",
       "      <td>Female</td>\n",
       "      <td>42</td>\n",
       "      <td>8</td>\n",
       "      <td>159660.80</td>\n",
       "      <td>3</td>\n",
       "      <td>1</td>\n",
       "      <td>0</td>\n",
       "      <td>113931.57</td>\n",
       "      <td>1</td>\n",
       "    </tr>\n",
       "    <tr>\n",
       "      <th>3</th>\n",
       "      <td>4</td>\n",
       "      <td>15701354</td>\n",
       "      <td>Boni</td>\n",
       "      <td>699</td>\n",
       "      <td>France</td>\n",
       "      <td>Female</td>\n",
       "      <td>39</td>\n",
       "      <td>1</td>\n",
       "      <td>0.00</td>\n",
       "      <td>2</td>\n",
       "      <td>0</td>\n",
       "      <td>0</td>\n",
       "      <td>93826.63</td>\n",
       "      <td>0</td>\n",
       "    </tr>\n",
       "    <tr>\n",
       "      <th>4</th>\n",
       "      <td>5</td>\n",
       "      <td>15737888</td>\n",
       "      <td>Mitchell</td>\n",
       "      <td>850</td>\n",
       "      <td>Spain</td>\n",
       "      <td>Female</td>\n",
       "      <td>43</td>\n",
       "      <td>2</td>\n",
       "      <td>125510.82</td>\n",
       "      <td>1</td>\n",
       "      <td>1</td>\n",
       "      <td>1</td>\n",
       "      <td>79084.10</td>\n",
       "      <td>0</td>\n",
       "    </tr>\n",
       "  </tbody>\n",
       "</table>\n",
       "</div>"
      ],
      "text/plain": [
       "   RowNumber  CustomerId   Surname  CreditScore Geography  Gender  Age  \\\n",
       "0          1    15634602  Hargrave          619    France  Female   42   \n",
       "1          2    15647311      Hill          608     Spain  Female   41   \n",
       "2          3    15619304      Onio          502    France  Female   42   \n",
       "3          4    15701354      Boni          699    France  Female   39   \n",
       "4          5    15737888  Mitchell          850     Spain  Female   43   \n",
       "\n",
       "   Tenure    Balance  NumOfProducts  HasCrCard  IsActiveMember  \\\n",
       "0       2       0.00              1          1               1   \n",
       "1       1   83807.86              1          0               1   \n",
       "2       8  159660.80              3          1               0   \n",
       "3       1       0.00              2          0               0   \n",
       "4       2  125510.82              1          1               1   \n",
       "\n",
       "   EstimatedSalary  Exited  \n",
       "0        101348.88       1  \n",
       "1        112542.58       0  \n",
       "2        113931.57       1  \n",
       "3         93826.63       0  \n",
       "4         79084.10       0  "
      ]
     },
     "execution_count": 3,
     "metadata": {},
     "output_type": "execute_result"
    }
   ],
   "source": [
    "## Load dataset into a dataframe\n",
    "df = pd.read_csv(file)\n",
    "df.head()"
   ]
  },
  {
   "cell_type": "markdown",
   "id": "637c4320",
   "metadata": {},
   "source": [
    "## Exploratory Data Analysis"
   ]
  },
  {
   "cell_type": "code",
   "execution_count": 4,
   "id": "c1a260fc",
   "metadata": {
    "ExecuteTime": {
     "end_time": "2022-08-12T06:00:03.163513Z",
     "start_time": "2022-08-12T06:00:03.148563Z"
    }
   },
   "outputs": [
    {
     "name": "stdout",
     "output_type": "stream",
     "text": [
      "<class 'pandas.core.frame.DataFrame'>\n",
      "RangeIndex: 10000 entries, 0 to 9999\n",
      "Data columns (total 14 columns):\n",
      " #   Column           Non-Null Count  Dtype  \n",
      "---  ------           --------------  -----  \n",
      " 0   RowNumber        10000 non-null  int64  \n",
      " 1   CustomerId       10000 non-null  int64  \n",
      " 2   Surname          10000 non-null  object \n",
      " 3   CreditScore      10000 non-null  int64  \n",
      " 4   Geography        10000 non-null  object \n",
      " 5   Gender           10000 non-null  object \n",
      " 6   Age              10000 non-null  int64  \n",
      " 7   Tenure           10000 non-null  int64  \n",
      " 8   Balance          10000 non-null  float64\n",
      " 9   NumOfProducts    10000 non-null  int64  \n",
      " 10  HasCrCard        10000 non-null  int64  \n",
      " 11  IsActiveMember   10000 non-null  int64  \n",
      " 12  EstimatedSalary  10000 non-null  float64\n",
      " 13  Exited           10000 non-null  int64  \n",
      "dtypes: float64(2), int64(9), object(3)\n",
      "memory usage: 1.1+ MB\n"
     ]
    }
   ],
   "source": [
    "df.info()"
   ]
  },
  {
   "cell_type": "markdown",
   "id": "22cdc5d9",
   "metadata": {},
   "source": [
    "From the df.info() output, we can take note on the following information:\n",
    "- There are 13 features and 1 label columns in the dataset\n",
    "- There are 10,000 rows in the dataset\n",
    "- There are no null values in all of the dataset columns\n",
    "\n",
    "as confirmed below:"
   ]
  },
  {
   "cell_type": "code",
   "execution_count": 5,
   "id": "bb593c50",
   "metadata": {
    "ExecuteTime": {
     "end_time": "2022-08-12T06:00:03.178455Z",
     "start_time": "2022-08-12T06:00:03.166495Z"
    }
   },
   "outputs": [
    {
     "name": "stdout",
     "output_type": "stream",
     "text": [
      "Number of columns in dataset: 14\n"
     ]
    }
   ],
   "source": [
    "print(\"Number of columns in dataset:\", len(df.columns))"
   ]
  },
  {
   "cell_type": "code",
   "execution_count": 6,
   "id": "983f6e44",
   "metadata": {
    "ExecuteTime": {
     "end_time": "2022-08-12T06:00:03.193404Z",
     "start_time": "2022-08-12T06:00:03.181445Z"
    }
   },
   "outputs": [
    {
     "name": "stdout",
     "output_type": "stream",
     "text": [
      "Number of rows in dataset: 10000\n"
     ]
    }
   ],
   "source": [
    "print(\"Number of rows in dataset:\", len(df))"
   ]
  },
  {
   "cell_type": "code",
   "execution_count": 7,
   "id": "6adc0f99",
   "metadata": {
    "ExecuteTime": {
     "end_time": "2022-08-12T06:00:03.209352Z",
     "start_time": "2022-08-12T06:00:03.195399Z"
    }
   },
   "outputs": [
    {
     "data": {
      "text/plain": [
       "RowNumber          0\n",
       "CustomerId         0\n",
       "Surname            0\n",
       "CreditScore        0\n",
       "Geography          0\n",
       "Gender             0\n",
       "Age                0\n",
       "Tenure             0\n",
       "Balance            0\n",
       "NumOfProducts      0\n",
       "HasCrCard          0\n",
       "IsActiveMember     0\n",
       "EstimatedSalary    0\n",
       "Exited             0\n",
       "dtype: int64"
      ]
     },
     "execution_count": 7,
     "metadata": {},
     "output_type": "execute_result"
    }
   ],
   "source": [
    "df.isnull().sum()"
   ]
  },
  {
   "cell_type": "code",
   "execution_count": 8,
   "id": "90c07ad5",
   "metadata": {
    "ExecuteTime": {
     "end_time": "2022-08-12T06:00:03.225298Z",
     "start_time": "2022-08-12T06:00:03.211345Z"
    }
   },
   "outputs": [
    {
     "data": {
      "text/plain": [
       "False"
      ]
     },
     "execution_count": 8,
     "metadata": {},
     "output_type": "execute_result"
    }
   ],
   "source": [
    "any(df.duplicated())"
   ]
  },
  {
   "cell_type": "code",
   "execution_count": 9,
   "id": "fb63f6fd",
   "metadata": {
    "ExecuteTime": {
     "end_time": "2022-08-12T06:00:03.256272Z",
     "start_time": "2022-08-12T06:00:03.227292Z"
    },
    "scrolled": true
   },
   "outputs": [
    {
     "data": {
      "text/html": [
       "<div>\n",
       "<style scoped>\n",
       "    .dataframe tbody tr th:only-of-type {\n",
       "        vertical-align: middle;\n",
       "    }\n",
       "\n",
       "    .dataframe tbody tr th {\n",
       "        vertical-align: top;\n",
       "    }\n",
       "\n",
       "    .dataframe thead th {\n",
       "        text-align: right;\n",
       "    }\n",
       "</style>\n",
       "<table border=\"1\" class=\"dataframe\">\n",
       "  <thead>\n",
       "    <tr style=\"text-align: right;\">\n",
       "      <th></th>\n",
       "      <th>RowNumber</th>\n",
       "      <th>CustomerId</th>\n",
       "      <th>CreditScore</th>\n",
       "      <th>Age</th>\n",
       "      <th>Tenure</th>\n",
       "      <th>Balance</th>\n",
       "      <th>NumOfProducts</th>\n",
       "      <th>HasCrCard</th>\n",
       "      <th>IsActiveMember</th>\n",
       "      <th>EstimatedSalary</th>\n",
       "      <th>Exited</th>\n",
       "    </tr>\n",
       "  </thead>\n",
       "  <tbody>\n",
       "    <tr>\n",
       "      <th>count</th>\n",
       "      <td>10000.00000</td>\n",
       "      <td>1.000000e+04</td>\n",
       "      <td>10000.000000</td>\n",
       "      <td>10000.000000</td>\n",
       "      <td>10000.000000</td>\n",
       "      <td>10000.000000</td>\n",
       "      <td>10000.000000</td>\n",
       "      <td>10000.00000</td>\n",
       "      <td>10000.000000</td>\n",
       "      <td>10000.000000</td>\n",
       "      <td>10000.000000</td>\n",
       "    </tr>\n",
       "    <tr>\n",
       "      <th>mean</th>\n",
       "      <td>5000.50000</td>\n",
       "      <td>1.569094e+07</td>\n",
       "      <td>650.528800</td>\n",
       "      <td>38.921800</td>\n",
       "      <td>5.012800</td>\n",
       "      <td>76485.889288</td>\n",
       "      <td>1.530200</td>\n",
       "      <td>0.70550</td>\n",
       "      <td>0.515100</td>\n",
       "      <td>100090.239881</td>\n",
       "      <td>0.203700</td>\n",
       "    </tr>\n",
       "    <tr>\n",
       "      <th>std</th>\n",
       "      <td>2886.89568</td>\n",
       "      <td>7.193619e+04</td>\n",
       "      <td>96.653299</td>\n",
       "      <td>10.487806</td>\n",
       "      <td>2.892174</td>\n",
       "      <td>62397.405202</td>\n",
       "      <td>0.581654</td>\n",
       "      <td>0.45584</td>\n",
       "      <td>0.499797</td>\n",
       "      <td>57510.492818</td>\n",
       "      <td>0.402769</td>\n",
       "    </tr>\n",
       "    <tr>\n",
       "      <th>min</th>\n",
       "      <td>1.00000</td>\n",
       "      <td>1.556570e+07</td>\n",
       "      <td>350.000000</td>\n",
       "      <td>18.000000</td>\n",
       "      <td>0.000000</td>\n",
       "      <td>0.000000</td>\n",
       "      <td>1.000000</td>\n",
       "      <td>0.00000</td>\n",
       "      <td>0.000000</td>\n",
       "      <td>11.580000</td>\n",
       "      <td>0.000000</td>\n",
       "    </tr>\n",
       "    <tr>\n",
       "      <th>25%</th>\n",
       "      <td>2500.75000</td>\n",
       "      <td>1.562853e+07</td>\n",
       "      <td>584.000000</td>\n",
       "      <td>32.000000</td>\n",
       "      <td>3.000000</td>\n",
       "      <td>0.000000</td>\n",
       "      <td>1.000000</td>\n",
       "      <td>0.00000</td>\n",
       "      <td>0.000000</td>\n",
       "      <td>51002.110000</td>\n",
       "      <td>0.000000</td>\n",
       "    </tr>\n",
       "    <tr>\n",
       "      <th>50%</th>\n",
       "      <td>5000.50000</td>\n",
       "      <td>1.569074e+07</td>\n",
       "      <td>652.000000</td>\n",
       "      <td>37.000000</td>\n",
       "      <td>5.000000</td>\n",
       "      <td>97198.540000</td>\n",
       "      <td>1.000000</td>\n",
       "      <td>1.00000</td>\n",
       "      <td>1.000000</td>\n",
       "      <td>100193.915000</td>\n",
       "      <td>0.000000</td>\n",
       "    </tr>\n",
       "    <tr>\n",
       "      <th>75%</th>\n",
       "      <td>7500.25000</td>\n",
       "      <td>1.575323e+07</td>\n",
       "      <td>718.000000</td>\n",
       "      <td>44.000000</td>\n",
       "      <td>7.000000</td>\n",
       "      <td>127644.240000</td>\n",
       "      <td>2.000000</td>\n",
       "      <td>1.00000</td>\n",
       "      <td>1.000000</td>\n",
       "      <td>149388.247500</td>\n",
       "      <td>0.000000</td>\n",
       "    </tr>\n",
       "    <tr>\n",
       "      <th>max</th>\n",
       "      <td>10000.00000</td>\n",
       "      <td>1.581569e+07</td>\n",
       "      <td>850.000000</td>\n",
       "      <td>92.000000</td>\n",
       "      <td>10.000000</td>\n",
       "      <td>250898.090000</td>\n",
       "      <td>4.000000</td>\n",
       "      <td>1.00000</td>\n",
       "      <td>1.000000</td>\n",
       "      <td>199992.480000</td>\n",
       "      <td>1.000000</td>\n",
       "    </tr>\n",
       "  </tbody>\n",
       "</table>\n",
       "</div>"
      ],
      "text/plain": [
       "         RowNumber    CustomerId   CreditScore           Age        Tenure  \\\n",
       "count  10000.00000  1.000000e+04  10000.000000  10000.000000  10000.000000   \n",
       "mean    5000.50000  1.569094e+07    650.528800     38.921800      5.012800   \n",
       "std     2886.89568  7.193619e+04     96.653299     10.487806      2.892174   \n",
       "min        1.00000  1.556570e+07    350.000000     18.000000      0.000000   \n",
       "25%     2500.75000  1.562853e+07    584.000000     32.000000      3.000000   \n",
       "50%     5000.50000  1.569074e+07    652.000000     37.000000      5.000000   \n",
       "75%     7500.25000  1.575323e+07    718.000000     44.000000      7.000000   \n",
       "max    10000.00000  1.581569e+07    850.000000     92.000000     10.000000   \n",
       "\n",
       "             Balance  NumOfProducts    HasCrCard  IsActiveMember  \\\n",
       "count   10000.000000   10000.000000  10000.00000    10000.000000   \n",
       "mean    76485.889288       1.530200      0.70550        0.515100   \n",
       "std     62397.405202       0.581654      0.45584        0.499797   \n",
       "min         0.000000       1.000000      0.00000        0.000000   \n",
       "25%         0.000000       1.000000      0.00000        0.000000   \n",
       "50%     97198.540000       1.000000      1.00000        1.000000   \n",
       "75%    127644.240000       2.000000      1.00000        1.000000   \n",
       "max    250898.090000       4.000000      1.00000        1.000000   \n",
       "\n",
       "       EstimatedSalary        Exited  \n",
       "count     10000.000000  10000.000000  \n",
       "mean     100090.239881      0.203700  \n",
       "std       57510.492818      0.402769  \n",
       "min          11.580000      0.000000  \n",
       "25%       51002.110000      0.000000  \n",
       "50%      100193.915000      0.000000  \n",
       "75%      149388.247500      0.000000  \n",
       "max      199992.480000      1.000000  "
      ]
     },
     "execution_count": 9,
     "metadata": {},
     "output_type": "execute_result"
    }
   ],
   "source": [
    "df.describe()"
   ]
  },
  {
   "cell_type": "markdown",
   "id": "62c772c3",
   "metadata": {},
   "source": [
    "Some interesting things we can find from the data:\n",
    "- RowNumber is an incremental unique ID, given to each row\n",
    "- CustomerId is a unique ID given to each unique customer\n",
    "- CreditScore ranges from 350 to 850, which complies with FICO credit scoring\n",
    "- HasCrCard & IsActiveMember are boolean features"
   ]
  },
  {
   "cell_type": "code",
   "execution_count": 10,
   "id": "6bbc5a76",
   "metadata": {
    "ExecuteTime": {
     "end_time": "2022-08-12T06:00:03.444180Z",
     "start_time": "2022-08-12T06:00:03.258188Z"
    }
   },
   "outputs": [
    {
     "data": {
      "image/png": "[encoded data removed]",
      "text/plain": [
       "<Figure size 432x288 with 2 Axes>"
      ]
     },
     "metadata": {
      "needs_background": "light"
     },
     "output_type": "display_data"
    }
   ],
   "source": [
    "## Calculating correlation matrix of dataset\n",
    "corr = df.corr(method='pearson')\n",
    "mask = np.triu(np.ones(corr.shape)).astype(np.bool)\n",
    "heatmap = sns.heatmap(corr, mask=mask, cmap=\"YlGnBu\")"
   ]
  },
  {
   "cell_type": "markdown",
   "id": "2a55a1e0",
   "metadata": {},
   "source": [
    "- Age is positively correlated with Exited\n",
    "  - could mean that the older a customer gets, the more likely they are to close their account\n",
    "\n",
    "\n",
    "- IsActiveMember is negatively correlated with Exited\n",
    "  - possible that customers are more likely to close their accounts if their usage frequency is low\n",
    "  \n",
    "  \n",
    "- Balance is negatively correlated with NumOfProducts\n",
    "  - possible that owning a greater number of products would result in a lower balance, and the inverse may hold true as well"
   ]
  },
  {
   "cell_type": "code",
   "execution_count": 11,
   "id": "aa11118e",
   "metadata": {
    "ExecuteTime": {
     "end_time": "2022-08-12T06:00:04.218036Z",
     "start_time": "2022-08-12T06:00:03.445224Z"
    }
   },
   "outputs": [
    {
     "data": {
      "image/png": "[encoded data removed]",
      "text/plain": [
       "<Figure size 1296x864 with 12 Axes>"
      ]
     },
     "metadata": {
      "needs_background": "light"
     },
     "output_type": "display_data"
    }
   ],
   "source": [
    "df.hist(figsize=(18,12))\n",
    "plt.show()"
   ]
  },
  {
   "cell_type": "code",
   "execution_count": 12,
   "id": "11ee8cd2",
   "metadata": {
    "ExecuteTime": {
     "end_time": "2022-08-12T06:00:04.234020Z",
     "start_time": "2022-08-12T06:00:04.221027Z"
    }
   },
   "outputs": [],
   "source": [
    "# Remove redundant information\n",
    "df.drop(['RowNumber', 'CustomerId', 'Surname'], axis=1, inplace=True)"
   ]
  },
  {
   "cell_type": "code",
   "execution_count": 13,
   "id": "d33437f8",
   "metadata": {
    "ExecuteTime": {
     "end_time": "2022-08-12T06:00:04.249608Z",
     "start_time": "2022-08-12T06:00:04.234656Z"
    },
    "scrolled": true
   },
   "outputs": [
    {
     "name": "stdout",
     "output_type": "stream",
     "text": [
      "France     5014\n",
      "Germany    2509\n",
      "Spain      2477\n",
      "Name: Geography, dtype: int64 \n",
      "\n",
      "Male      5457\n",
      "Female    4543\n",
      "Name: Gender, dtype: int64 \n",
      "\n"
     ]
    }
   ],
   "source": [
    "## Encode categorical columns\n",
    "\n",
    "o_cols = df.select_dtypes('O').columns\n",
    "\n",
    "for col in o_cols:\n",
    "    print(df[col].value_counts(), '\\n')\n",
    "\n",
    "le = LabelEncoder()\n",
    "\n",
    "for col in o_cols:\n",
    "    df[col] = le.fit_transform(df[col])"
   ]
  },
  {
   "cell_type": "code",
   "execution_count": 14,
   "id": "117e918e",
   "metadata": {
    "ExecuteTime": {
     "end_time": "2022-08-12T06:00:04.264492Z",
     "start_time": "2022-08-12T06:00:04.250604Z"
    }
   },
   "outputs": [],
   "source": [
    "## Separate data to features and label\n",
    "\n",
    "X = df.drop('Exited', axis=1)\n",
    "y = df['Exited']"
   ]
  },
  {
   "cell_type": "code",
   "execution_count": 15,
   "id": "9bf2e401",
   "metadata": {
    "ExecuteTime": {
     "end_time": "2022-08-12T06:00:04.279548Z",
     "start_time": "2022-08-12T06:00:04.265497Z"
    }
   },
   "outputs": [
    {
     "data": {
      "text/plain": [
       "0    7963\n",
       "1    2037\n",
       "Name: Exited, dtype: int64"
      ]
     },
     "execution_count": 15,
     "metadata": {},
     "output_type": "execute_result"
    }
   ],
   "source": [
    "## Initial distribution of label classes\n",
    "y.value_counts().sort_index()"
   ]
  },
  {
   "cell_type": "code",
   "execution_count": 16,
   "id": "aae00d71",
   "metadata": {
    "ExecuteTime": {
     "end_time": "2022-08-12T06:00:04.327482Z",
     "start_time": "2022-08-12T06:00:04.280634Z"
    }
   },
   "outputs": [],
   "source": [
    "## Can see that the dataset is imbalanced\n",
    "## So, we use ADASYN to oversample the minority class\n",
    "## ADASYN (Adaptive Synthetic) is an algorithm that generates synthetic data\n",
    "#### its greatest advantages are not copying the same minority data, \n",
    "#### and generating more data for “harder to learn” examples.\n",
    "## Can also use SMOTE or Borderline-SMOTE to balance the classes\n",
    "\n",
    "oversample = ADASYN()\n",
    "X, y = oversample.fit_resample(X, y)"
   ]
  },
  {
   "cell_type": "code",
   "execution_count": 17,
   "id": "1331d250",
   "metadata": {
    "ExecuteTime": {
     "end_time": "2022-08-12T06:00:04.343102Z",
     "start_time": "2022-08-12T06:00:04.329478Z"
    }
   },
   "outputs": [
    {
     "data": {
      "text/plain": [
       "0    7963\n",
       "1    7977\n",
       "Name: Exited, dtype: int64"
      ]
     },
     "execution_count": 17,
     "metadata": {},
     "output_type": "execute_result"
    }
   ],
   "source": [
    "## New distribution of label classes\n",
    "y.value_counts().sort_index()"
   ]
  },
  {
   "cell_type": "code",
   "execution_count": 18,
   "id": "e36e8925",
   "metadata": {
    "ExecuteTime": {
     "end_time": "2022-08-12T06:00:04.800700Z",
     "start_time": "2022-08-12T06:00:04.345217Z"
    }
   },
   "outputs": [
    {
     "name": "stdout",
     "output_type": "stream",
     "text": [
      "[14:00:04] WARNING: ..\\src\\learner.cc:1115: Starting in XGBoost 1.3.0, the default evaluation metric used with the objective 'binary:logistic' was changed from 'error' to 'logloss'. Explicitly set eval_metric if you'd like to restore the old behavior.\n"
     ]
    },
    {
     "data": {
      "text/plain": [
       "(0.857172731074864, 0.3779249514455693)"
      ]
     },
     "execution_count": 18,
     "metadata": {},
     "output_type": "execute_result"
    }
   ],
   "source": [
    "## Split data to train and test sets\n",
    "X_train, X_test, y_train, y_test = train_test_split(X, y, test_size=0.3, random_state=0)\n",
    "\n",
    "## Fit model to training data\n",
    "model = XGBClassifier()\n",
    "model.fit(X_train, y_train)\n",
    "\n",
    "## Make predictions for test data\n",
    "y_pred = model.predict(X_test)\n",
    "\n",
    "## Compute accuracy and RMSE between actual vs predicted values\n",
    "accuracy_score(y_test, y_pred), mean_squared_error(y_test, y_pred, squared=False)"
   ]
  },
  {
   "cell_type": "code",
   "execution_count": 19,
   "id": "30ac0a32",
   "metadata": {
    "ExecuteTime": {
     "end_time": "2022-08-12T06:03:31.713509Z",
     "start_time": "2022-08-12T06:00:04.802694Z"
    },
    "scrolled": true
   },
   "outputs": [
    {
     "name": "stdout",
     "output_type": "stream",
     "text": [
      "Fitting 5 folds for each of 100 candidates, totalling 500 fits\n",
      "[14:03:12] WARNING: ..\\src\\learner.cc:1115: Starting in XGBoost 1.3.0, the default evaluation metric used with the objective 'binary:logistic' was changed from 'error' to 'logloss'. Explicitly set eval_metric if you'd like to restore the old behavior.\n",
      "Best parameters: {'subsample': 0.8999999999999999, 'reg_lambda': 5, 'reg_alpha': 0.5, 'n_estimators': 1000, 'max_depth': 15, 'learning_rate': 0.05, 'gamma': 0, 'colsample_bytree': 0.8999999999999999, 'colsample_bylevel': 0.7, 'booster': 'gbtree', 'base_score': 0.2}\n",
      "Lowest RMSE:  0.35765512642834685\n"
     ]
    }
   ],
   "source": [
    "## Hyperparameter tuning\n",
    "\n",
    "params = {'max_depth': [3, 5, 6, 10, 15, 20],\n",
    "          'learning_rate': [0.01, 0.05, 0.1, 0.2, 0.3],\n",
    "          'booster': ['gbtree', 'gblinear'],\n",
    "          'gamma': [0, 0.5, 1],\n",
    "          'reg_alpha': [0, 0.5, 1],\n",
    "          'reg_lambda': [0.5, 1, 5],\n",
    "          'base_score': [0.2, 0.5, 1],\n",
    "          'subsample': np.arange(0.5, 1.0, 0.1),\n",
    "          'colsample_bytree': np.arange(0.4, 1.0, 0.1),\n",
    "          'colsample_bylevel': np.arange(0.4, 1.0, 0.1),\n",
    "          'n_estimators': [100, 200, 500, 1000]}\n",
    "\n",
    "xgbc = XGBClassifier(n_jobs=-1)\n",
    "clf = RandomizedSearchCV(estimator=xgbc, \n",
    "                   param_distributions=params,\n",
    "                   n_iter=100,\n",
    "                   n_jobs=-1,\n",
    "                   scoring='neg_mean_squared_error', \n",
    "                   random_state=0,\n",
    "                   verbose=1)\n",
    "\n",
    "clf.fit(X, y)\n",
    "print(\"Best parameters:\", clf.best_params_)\n",
    "print(\"Lowest RMSE: \", (-clf.best_score_)**(1/2.0))"
   ]
  },
  {
   "cell_type": "code",
   "execution_count": 20,
   "id": "c5fcfbf0",
   "metadata": {
    "ExecuteTime": {
     "end_time": "2022-08-12T06:03:31.729608Z",
     "start_time": "2022-08-12T06:03:31.714435Z"
    },
    "scrolled": true
   },
   "outputs": [
    {
     "data": {
      "text/plain": [
       "{'subsample': 0.8999999999999999,\n",
       " 'reg_lambda': 5,\n",
       " 'reg_alpha': 0.5,\n",
       " 'n_estimators': 1000,\n",
       " 'max_depth': 15,\n",
       " 'learning_rate': 0.05,\n",
       " 'gamma': 0,\n",
       " 'colsample_bytree': 0.8999999999999999,\n",
       " 'colsample_bylevel': 0.7,\n",
       " 'booster': 'gbtree',\n",
       " 'base_score': 0.2}"
      ]
     },
     "execution_count": 20,
     "metadata": {},
     "output_type": "execute_result"
    }
   ],
   "source": [
    "clf.best_params_"
   ]
  },
  {
   "cell_type": "code",
   "execution_count": 21,
   "id": "886f4435",
   "metadata": {
    "ExecuteTime": {
     "end_time": "2022-08-12T06:03:42.029536Z",
     "start_time": "2022-08-12T06:03:31.731198Z"
    }
   },
   "outputs": [
    {
     "name": "stdout",
     "output_type": "stream",
     "text": [
      "[14:03:31] WARNING: ..\\src\\learner.cc:1115: Starting in XGBoost 1.3.0, the default evaluation metric used with the objective 'binary:logistic' was changed from 'error' to 'logloss'. Explicitly set eval_metric if you'd like to restore the old behavior.\n"
     ]
    },
    {
     "data": {
      "text/plain": [
       "(0.8747386030949393, 0.3539228685816454)"
      ]
     },
     "execution_count": 21,
     "metadata": {},
     "output_type": "execute_result"
    }
   ],
   "source": [
    "## Build new model based on tuned hyperparameters\n",
    "\n",
    "best_model = XGBClassifier(n_jobs=-1)\n",
    "best_model.set_params(**clf.best_params_, )\n",
    "best_model.fit(X_train, y_train)\n",
    "\n",
    "## Make predictions for test data\n",
    "y_pred = best_model.predict(X_test)\n",
    "\n",
    "## Compute accuracy and RMSE between actual vs predicted values\n",
    "accuracy_score(y_test, y_pred), mean_squared_error(y_test, y_pred, squared=False)"
   ]
  },
  {
   "cell_type": "code",
   "execution_count": 22,
   "id": "51b06fb7",
   "metadata": {
    "ExecuteTime": {
     "end_time": "2022-08-12T06:03:42.205108Z",
     "start_time": "2022-08-12T06:03:42.030532Z"
    }
   },
   "outputs": [
    {
     "data": {
      "image/png": "[encoded data removed]",
      "text/plain": [
       "<Figure size 432x288 with 1 Axes>"
      ]
     },
     "metadata": {
      "needs_background": "light"
     },
     "output_type": "display_data"
    }
   ],
   "source": [
    "## Plot of best model ROC\n",
    "y_pred_proba = best_model.predict_proba(X_test)[::,1]\n",
    "fpr, tpr, _ = roc_curve(y_test,  y_pred_proba)\n",
    "auc = roc_auc_score(y_test, y_pred_proba)\n",
    "plt.plot(fpr, tpr, label=\"AUC=\"+str(auc))\n",
    "plt.legend(loc=4)\n",
    "plt.show()"
   ]
  }
 ],
 "metadata": {
  "kernelspec": {
   "display_name": "Python 3 (ipykernel)",
   "language": "python",
   "name": "python3"
  },
  "language_info": {
   "codemirror_mode": {
    "name": "ipython",
    "version": 3
   },
   "file_extension": ".py",
   "mimetype": "text/x-python",
   "name": "python",
   "nbconvert_exporter": "python",
   "pygments_lexer": "ipython3",
   "version": "3.8.13"
  },
  "varInspector": {
   "cols": {
    "lenName": 16,
    "lenType": 16,
    "lenVar": 40
   },
   "kernels_config": {
    "python": {
     "delete_cmd_postfix": "",
     "delete_cmd_prefix": "del ",
     "library": "var_list.py",
     "varRefreshCmd": "print(var_dic_list())"
    },
    "r": {
     "delete_cmd_postfix": ") ",
     "delete_cmd_prefix": "rm(",
     "library": "var_list.r",
     "varRefreshCmd": "cat(var_dic_list()) "
    }
   },
   "types_to_exclude": [
    "module",
    "function",
    "builtin_function_or_method",
    "instance",
    "_Feature"
   ],
   "window_display": false
  }
 },
 "nbformat": 4,
 "nbformat_minor": 5
}
